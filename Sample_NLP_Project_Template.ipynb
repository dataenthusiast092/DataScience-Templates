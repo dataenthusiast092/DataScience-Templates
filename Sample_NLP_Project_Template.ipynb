{
  "nbformat": 4,
  "nbformat_minor": 0,
  "metadata": {
    "colab": {
      "provenance": [],
      "toc_visible": true,
      "authorship_tag": "ABX9TyNJ7CD7PmNxQINLEW3n+fZd",
      "include_colab_link": true
    },
    "kernelspec": {
      "name": "python3",
      "display_name": "Python 3"
    },
    "language_info": {
      "name": "python"
    }
  },
  "cells": [
    {
      "cell_type": "markdown",
      "metadata": {
        "id": "view-in-github",
        "colab_type": "text"
      },
      "source": [
        "<a href=\"https://colab.research.google.com/github/dataenthusiast092/DataScience-Templates/blob/main/Sample_NLP_Project_Template.ipynb\" target=\"_parent\"><img src=\"https://colab.research.google.com/assets/colab-badge.svg\" alt=\"Open In Colab\"/></a>"
      ]
    },
    {
      "cell_type": "markdown",
      "source": [
        "# NLP Project: Title Here"
      ],
      "metadata": {
        "id": "KybaF2aIzMP7"
      }
    },
    {
      "cell_type": "markdown",
      "source": [
        "Project Description Here"
      ],
      "metadata": {
        "id": "c7vmQD7s9izA"
      }
    },
    {
      "cell_type": "markdown",
      "source": [
        "# Dataset\n"
      ],
      "metadata": {
        "id": "FdERD4eEza57"
      }
    },
    {
      "cell_type": "markdown",
      "source": [
        "Describe Dataset Here"
      ],
      "metadata": {
        "id": "7VXn6HfR9mxi"
      }
    },
    {
      "cell_type": "markdown",
      "source": [
        "# Python Libraries Imports"
      ],
      "metadata": {
        "id": "_1g6d7HPzgrj"
      }
    },
    {
      "cell_type": "code",
      "source": [
        "# Any installations and imports\n",
        "\n",
        "import pandas as pd\n",
        "import numpy as np"
      ],
      "metadata": {
        "id": "aB_7ejcn9rOb"
      },
      "execution_count": null,
      "outputs": []
    },
    {
      "cell_type": "markdown",
      "source": [
        "# Global Variables"
      ],
      "metadata": {
        "id": "VFtHXESM-JkG"
      }
    },
    {
      "cell_type": "code",
      "source": [
        "# relative path to any file till folder level = \n",
        "# filenames along with extension"
      ],
      "metadata": {
        "id": "pgWGKBg5-L1e"
      },
      "execution_count": null,
      "outputs": []
    },
    {
      "cell_type": "markdown",
      "source": [
        "# Data Exploration"
      ],
      "metadata": {
        "id": "puDw-SBzzoiK"
      }
    },
    {
      "cell_type": "code",
      "source": [
        "# Sample pandas function\n",
        "\n",
        "# remember: any csv file\n",
        "df = pd.read_csv(path + filename)\n",
        "\n",
        "# sample functions of pandas dataframe\n",
        "\n",
        "# check documentation of pandas api reference for proper know how & syntax\n",
        "# refer here: https://pandas.pydata.org/pandas-docs/stable/reference/index.html \n",
        "\n",
        "df.head(2)\n",
        "df.info()\n",
        "df.isna().sum()\n",
        "df.shape\n",
        "df.unique()\n",
        "\n",
        "# feature level functions such as follows can be used\n",
        "\n",
        "new_series = pd.to_datetime(series)\n",
        "\n",
        "# daterange\n",
        "\n",
        "start = series.min()\n",
        "end = series.max()\n",
        "\n",
        "\n"
      ],
      "metadata": {
        "id": "-frj2Ydz9_QR"
      },
      "execution_count": null,
      "outputs": []
    },
    {
      "cell_type": "markdown",
      "source": [
        "# Preprocessing & Featurization"
      ],
      "metadata": {
        "id": "YTX7sG7Tz3NZ"
      }
    },
    {
      "cell_type": "code",
      "source": [
        ".\n",
        "\n"
      ],
      "metadata": {
        "id": "nMkMVOLkAoRM"
      },
      "execution_count": null,
      "outputs": []
    },
    {
      "cell_type": "markdown",
      "source": [
        "# Train Test Split"
      ],
      "metadata": {
        "id": "hZEjg0IE0CxZ"
      }
    },
    {
      "cell_type": "code",
      "source": [],
      "metadata": {
        "id": "LTy_exubBxaf"
      },
      "execution_count": null,
      "outputs": []
    },
    {
      "cell_type": "markdown",
      "source": [
        "# Vectorization"
      ],
      "metadata": {
        "id": "uCpBG7_S0iGZ"
      }
    },
    {
      "cell_type": "code",
      "source": [
        "# categorical using: count vectorizer(ohe), \n",
        "# normalizer with reshape(-1, 1) for numerical, \n",
        "# Bagofwrods, TFIDF, Avg W2V TFIDF W2v with n-grams using gensim or glove vectorizer."
      ],
      "metadata": {
        "id": "tV4EhMCRBsKY"
      },
      "execution_count": null,
      "outputs": []
    },
    {
      "cell_type": "markdown",
      "source": [
        "# Matrix Creation from Vectors"
      ],
      "metadata": {
        "id": "a5IaIyTe0zTi"
      }
    },
    {
      "cell_type": "code",
      "source": [],
      "metadata": {
        "id": "tcAw3eIBByWN"
      },
      "execution_count": null,
      "outputs": []
    },
    {
      "cell_type": "markdown",
      "source": [
        "# Modelling"
      ],
      "metadata": {
        "id": "up3LAJPS3QhS"
      }
    },
    {
      "cell_type": "code",
      "source": [],
      "metadata": {
        "id": "y5PG9_-eBzMg"
      },
      "execution_count": null,
      "outputs": []
    },
    {
      "cell_type": "markdown",
      "source": [
        "# Scores / Metrics"
      ],
      "metadata": {
        "id": "9YMXEDgN3m1X"
      }
    },
    {
      "cell_type": "code",
      "source": [],
      "metadata": {
        "id": "_4Swj4qpBzzd"
      },
      "execution_count": null,
      "outputs": []
    },
    {
      "cell_type": "markdown",
      "source": [
        "# Result"
      ],
      "metadata": {
        "id": "BS4vhqp83slq"
      }
    },
    {
      "cell_type": "code",
      "source": [],
      "metadata": {
        "id": "BFS_B2slB0aE"
      },
      "execution_count": null,
      "outputs": []
    },
    {
      "cell_type": "markdown",
      "source": [
        "# Summary"
      ],
      "metadata": {
        "id": "wGW3TIro31eN"
      }
    },
    {
      "cell_type": "markdown",
      "source": [
        "Write Project Summary"
      ],
      "metadata": {
        "id": "r7tP4pjaB1kQ"
      }
    },
    {
      "cell_type": "markdown",
      "source": [
        "# Conclusion"
      ],
      "metadata": {
        "id": "C4fwHjK434yQ"
      }
    },
    {
      "cell_type": "markdown",
      "source": [
        "Write Conclusion to te above Summary"
      ],
      "metadata": {
        "id": "ZNpeg3sWB4cX"
      }
    },
    {
      "cell_type": "markdown",
      "source": [
        "# Report (pdf format)\n",
        "\n",
        "Remove after wards"
      ],
      "metadata": {
        "id": "OldELYYk3ucp"
      }
    }
  ]
}